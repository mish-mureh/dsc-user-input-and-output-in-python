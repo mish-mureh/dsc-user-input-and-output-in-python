{
 "cells": [
  {
   "cell_type": "markdown",
   "metadata": {},
   "source": [
    "# User Input and Output in Python\n",
    "\n",
    "## Introduction\n",
    "\n",
    "Sometimes, you'll want Python to ask users for a certain input. This is where user inputs can help!\n",
    "\n",
    "## Objectives \n",
    "\n",
    "You will be able to:\n",
    "\n",
    "* Incorporate input/output functionality in code to allow for user interaction \n",
    "\n",
    "## User input in Python\n",
    "\n",
    "To get user input in Python, you can use the `input()` function. You can store the result in a variable, and use it to your heart's content. Remember that the result you get from the user will be a string, even if they enter a number.\n",
    "\n",
    "For example, run the following cell:"
   ]
  },
  {
   "cell_type": "code",
   "execution_count": null,
   "metadata": {},
   "outputs": [],
   "source": [
    "name = input(\"Give me your name: \")\n",
    "print(\"Your name is \" + name)"
   ]
  },
  {
   "cell_type": "markdown",
   "metadata": {},
   "source": [
    "When you use the `input()` function, the program waits for the user to type something and press ENTER. Only after the user presses ENTER does the program continue."
   ]
  },
  {
   "cell_type": "markdown",
   "metadata": {},
   "source": [
    "## Manipulating strings (a few ways)\n",
    "\n",
    "What you get from the `input()` function is always a string. What can you do with it?\n",
    "\n",
    "First, make the string into a number. Let’s say you are 100% positive that the user entered a number. You can turn the string into an integer with the function `int()`. (Later we will see what to do when the user does NOT enter a number and you try to do this. For now, don’t worry about that problem) \n",
    "\n",
    "Here is what this looks like:"
   ]
  },
  {
   "cell_type": "code",
   "execution_count": 2,
   "metadata": {},
   "outputs": [
    {
     "name": "stdout",
     "output_type": "stream",
     "text": [
      "Enter your age: 43\n",
      "You are 43 years old\n"
     ]
    }
   ],
   "source": [
    "age = input(\"Enter your age: \")\n",
    "age = int(age)\n",
    "print (\"You are\", age , \"years old\" )"
   ]
  },
  {
   "cell_type": "markdown",
   "metadata": {},
   "source": [
    "Unlike using `+` for string concatenation as seen earlier, we simply use a `,` for joining strings with numbers. You can also convert an `int` to `str` and use concatenation normally: "
   ]
  },
  {
   "cell_type": "code",
   "execution_count": 3,
   "metadata": {},
   "outputs": [
    {
     "name": "stdout",
     "output_type": "stream",
     "text": [
      "You are 43 years old\n"
     ]
    }
   ],
   "source": [
    "print (\"You are \" + str(age) + \" years old\")"
   ]
  },
  {
   "cell_type": "markdown",
   "metadata": {},
   "source": [
    "## Example\n",
    "Let's create a program that asks the user to enter their name, age, and the current year. Print out a message addressed to them that tells them the year that they will turn 100 years old."
   ]
  },
  {
   "cell_type": "code",
   "execution_count": 4,
   "metadata": {},
   "outputs": [
    {
     "name": "stdout",
     "output_type": "stream",
     "text": [
      "What is your name: Billy\n",
      "How old are you: 43\n",
      "what is the current year: 2019\n",
      "Billy will be 100 years old in the year 2076\n"
     ]
    }
   ],
   "source": [
    "name = input(\"What is your name: \")\n",
    "age = int(input(\"How old are you: \"))\n",
    "current_year = int(input(\"What is the current year: \"))\n",
    "year = str((current_year - age)+100)\n",
    "print(name + \" will be 100 years old in the year \" + year)"
   ]
  },
  {
   "cell_type": "code",
   "execution_count": 7,
   "metadata": {},
   "outputs": [
    {
     "name": "stdout",
     "output_type": "stream",
     "text": [
      "What is your name: billy\n",
      "How old are you: 43\n",
      "What is the current year: 2019\n",
      "billy will be 100years old in the year 2076\n"
     ]
    }
   ],
   "source": [
    "name = input(\"What is your name: \")\n",
    "age = int(input(\"How old are you: \"))\n",
    "new_age = str(age + 57)\n",
    "current_year = int(input(\"What is the current year: \"))\n",
    "year = str((current_year - age)+100)\n",
    "print(name + \" will be \" + new_age + \" years old in the year \" + year)"
   ]
  },
  {
   "cell_type": "markdown",
   "metadata": {},
   "source": [
    "## Summary\n",
    "\n",
    "This lesson introduced you to character input/output and string manipulation. We also saw how we can take user input, do some basic processing and provide feedback to the user based on the input. "
   ]
  },
  {
   "cell_type": "code",
   "execution_count": null,
   "metadata": {},
   "outputs": [],
   "source": [
    "# USING THE INPUT METHOD\n",
    "# NOTICE THAT WHAT THE USER TYPES IS ALWAYS A STRING\n",
    "name = input(\"What is your name: \")\n",
    "print(\"Your name is \", name)\n",
    "age = input(\"Age: \")\n",
    "print('You are', age, 'years old.')\n",
    "place_of_birth = input(\"What is your place of birth? \")\n",
    "print(\"You were born in \", place_of_birth)"
   ]
  },
  {
   "cell_type": "code",
   "execution_count": 1,
   "metadata": {},
   "outputs": [
    {
     "name": "stdout",
     "output_type": "stream",
     "text": [
      "What is your name: peter\n",
      "Age: 39\n",
      "What is your place of birth? nairobi\n",
      "Peter you are  39 years old, and born in  Nairobi\n"
     ]
    }
   ],
   "source": [
    "name = input(\"What is your name: \")\n",
    "age = input(\"Age: \")\n",
    "place_of_birth = input(\"What is your place of birth? \")\n",
    "print(name.title(), \"you are \", age, \"years old, and born in \", place_of_birth.title())\n"
   ]
  },
  {
   "cell_type": "code",
   "execution_count": 4,
   "metadata": {},
   "outputs": [
    {
     "name": "stdout",
     "output_type": "stream",
     "text": [
      "how old are you? 18\n",
      "You are  18 years old\n"
     ]
    }
   ],
   "source": [
    "# CHANGING A STRING TYPED TO AN INT.\n",
    "#METHOD 1\n",
    "age = input(\"how old are you? \")\n",
    "age = int(age)\n",
    "print(\"You are \", age, \"years old\")"
   ]
  },
  {
   "cell_type": "code",
   "execution_count": 5,
   "metadata": {},
   "outputs": [
    {
     "name": "stdout",
     "output_type": "stream",
     "text": [
      "how old are you? 18\n",
      "You are 18 years old\n"
     ]
    }
   ],
   "source": [
    "# CHANGING A INT TYPED TO A STRING.\n",
    "#METHOD 2\n",
    "age = input(\"how old are you? \")\n",
    "print(\"You are \"+ str(age), \"years old\")"
   ]
  }
 ],
 "metadata": {
  "kernelspec": {
   "display_name": "Python (learn-env)",
   "language": "python",
   "name": "learn-env"
  },
  "language_info": {
   "codemirror_mode": {
    "name": "ipython",
    "version": 3
   },
   "file_extension": ".py",
   "mimetype": "text/x-python",
   "name": "python",
   "nbconvert_exporter": "python",
   "pygments_lexer": "ipython3",
   "version": "3.11.7"
  },
  "toc": {
   "base_numbering": 1,
   "nav_menu": {},
   "number_sections": true,
   "sideBar": true,
   "skip_h1_title": false,
   "title_cell": "Table of Contents",
   "title_sidebar": "Contents",
   "toc_cell": false,
   "toc_position": {},
   "toc_section_display": true,
   "toc_window_display": false
  }
 },
 "nbformat": 4,
 "nbformat_minor": 2
}
